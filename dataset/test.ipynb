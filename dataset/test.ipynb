{
 "cells": [
  {
   "cell_type": "code",
   "execution_count": null,
   "id": "24bdd19a",
   "metadata": {},
   "outputs": [],
   "source": [
    "import sys\n",
    "import os\n",
    "import pandas as pd\n",
    "from tqdm.notebook import tqdm\n",
    "from itertools import combinations, cycle\n",
    "from collections import Counter\n",
    "import warnings\n",
    "import matplotlib.pyplot as plt\n",
    "import torch\n",
    "\n",
    "warnings.filterwarnings('ignore')\n",
    "sys.path.append(os.path.abspath('..'))\n",
    "\n",
    "from utils import username_to_repositorys, repository_to_shas, sha_to_detail, tokenizer_with_padding, tokens_transfomer"
   ]
  },
  {
   "cell_type": "markdown",
   "id": "5ad30164",
   "metadata": {},
   "source": [
    "### Configuration"
   ]
  },
  {
   "cell_type": "code",
   "execution_count": null,
   "id": "40fe2d0d",
   "metadata": {},
   "outputs": [],
   "source": [
    "INPUT_TOKEN_SIZE = 4096\n",
    "\n",
    "VOCAB = torch.load('../colab/train/vocab.pt')\n",
    "\n",
    "REPOSITORYS = [\n",
    "\n",
    "    'naturesh/code2vec'\n",
    "    \n",
    "]\n",
    "\n",
    "token_cycle = cycle([\n",
    "    os.environ.get('GITHUB_TOKEN'),\n",
    "    os.environ.get('GITHUB_TOKEN_2')\n",
    "])\n",
    "TOKEN = next(token_cycle)\n",
    "\n",
    "    "
   ]
  },
  {
   "cell_type": "markdown",
   "id": "f6a94cfc",
   "metadata": {},
   "source": [
    "#### Load Repositories"
   ]
  },
  {
   "cell_type": "code",
   "execution_count": null,
   "id": "61a0ff05",
   "metadata": {},
   "outputs": [],
   "source": [
    "X = []\n",
    "failed = 0\n",
    "\n",
    "repo_pgb = tqdm(REPOSITORYS, desc='Repositories')\n",
    "\n",
    "for repo in repo_pgb:\n",
    "        \n",
    "    repo_pgb.set_postfix({'target':repo, 'failed': failed})\n",
    "\n",
    "    try:\n",
    "        shas = repository_to_shas(repo, token=TOKEN)\n",
    "        \n",
    "        sha_pgb = tqdm(shas, desc='Shas', leave=False)\n",
    "        \n",
    "        for sha in sha_pgb:\n",
    "            details = sha_to_detail(repo, sha, token=TOKEN)\n",
    "            X.extend(details)\n",
    "            \n",
    "        sha_pgb.close()\n",
    "        \n",
    "    except Exception as e:\n",
    "        TOKEN = next(token_cycle)\n",
    "        print('-', e)\n",
    "        failed += 1\n",
    "\n",
    "\n",
    "\n",
    "df = pd.DataFrame(X, columns=['name', 'text', 'ext'])\n",
    "df = df.drop_duplicates(subset=['text'], keep='first')\n",
    "df = df.reset_index(drop=True)\n"
   ]
  },
  {
   "cell_type": "markdown",
   "id": "e4c24c39",
   "metadata": {},
   "source": [
    "#### filter by extensions"
   ]
  },
  {
   "cell_type": "code",
   "execution_count": null,
   "id": "1cce1ac9",
   "metadata": {},
   "outputs": [],
   "source": [
    "allowed_extensions = ['.java']\n",
    "\n",
    "filtered_df = df[df['ext'].isin(allowed_extensions)]\n",
    "\n",
    "df = filtered_df.reset_index(drop=True)"
   ]
  },
  {
   "cell_type": "markdown",
   "id": "171c51a7",
   "metadata": {},
   "source": [
    "#### under sampling based name"
   ]
  },
  {
   "cell_type": "code",
   "execution_count": null,
   "id": "e2ba91c0",
   "metadata": {},
   "outputs": [],
   "source": [
    "\n",
    "mean = int(df['name'].value_counts().mean())\n",
    "\n",
    "def _apply(group):\n",
    "    return group.sample(n=min(len(group), mean), random_state=42)\n",
    "\n",
    "df = df.groupby('name').apply(_apply).reset_index(drop=True)"
   ]
  },
  {
   "cell_type": "code",
   "execution_count": null,
   "id": "b0e4fedc",
   "metadata": {},
   "outputs": [],
   "source": [
    "df.tail()"
   ]
  },
  {
   "cell_type": "code",
   "execution_count": null,
   "id": "7e74895c",
   "metadata": {},
   "outputs": [],
   "source": [
    "users = df['name'].value_counts().sort_index()\n",
    "\n",
    "plt.figure(figsize=(5, 2))\n",
    "plt.bar(range(len(users)), users.values, color='yellowgreen')\n",
    "plt.xlabel('user distribution')\n",
    "plt.ylabel('Number of Samples')\n",
    "plt.xticks(range(len(users)))\n",
    "plt.show()"
   ]
  },
  {
   "cell_type": "markdown",
   "id": "5f5591e1",
   "metadata": {},
   "source": [
    "#### CREATE SENTENCE TO EXT DICT "
   ]
  },
  {
   "cell_type": "code",
   "execution_count": null,
   "id": "19442507",
   "metadata": {},
   "outputs": [],
   "source": [
    "EXT = {}\n",
    "\n",
    "for _, row in df.iterrows():\n",
    "    EXT[row['text']] = row['ext']"
   ]
  },
  {
   "cell_type": "markdown",
   "id": "f98bf1e3",
   "metadata": {},
   "source": [
    "#### Create Contrastive Pair"
   ]
  },
  {
   "cell_type": "code",
   "execution_count": null,
   "id": "8ec53f75",
   "metadata": {},
   "outputs": [],
   "source": [
    "N = 5\n",
    "pair = []\n",
    "\n",
    "for ext, group in df.groupby('ext'):\n",
    "    \n",
    "    idx = group.index.tolist()\n",
    "\n",
    "    for i1, i2 in combinations(idx, 2):\n",
    "        col1 = df.loc[i1]\n",
    "        col2 = df.loc[i2]\n",
    "\n",
    "        label = 1 if col1['name'] == col2['name'] else -1\n",
    "\n",
    "        name_data = df[df['name'] == col1['name']]\n",
    "        if len(name_data) < N:\n",
    "            continue \n",
    "        \n",
    "        sampled_df = name_data.sample(n=N)['text'].tolist()\n",
    "        pair.append([sampled_df, col2['text'], label, ext])\n",
    "\n",
    "\n",
    "pair = pd.DataFrame(pair, columns=['p1', 'p2', 'label', 'ext'])\n",
    "pair.tail()"
   ]
  },
  {
   "cell_type": "markdown",
   "id": "df8d98ab",
   "metadata": {},
   "source": [
    "#### Undersampling based label"
   ]
  },
  {
   "cell_type": "code",
   "execution_count": null,
   "id": "c4059c9a",
   "metadata": {},
   "outputs": [],
   "source": [
    "\n",
    "min_count = pair['label'].value_counts().min()\n",
    "\n",
    "pair = pair.groupby('label').apply(\n",
    "    lambda x: x.sample(min_count, random_state=42)\n",
    ").reset_index(drop=True)\n",
    "\n",
    "print('distribution', pair['label'].value_counts())"
   ]
  },
  {
   "cell_type": "code",
   "execution_count": null,
   "id": "0218814b",
   "metadata": {},
   "outputs": [],
   "source": [
    "if len(pair) >= 30000:\n",
    "    pair = pair.sample(30000)"
   ]
  },
  {
   "cell_type": "code",
   "execution_count": null,
   "id": "0833020b",
   "metadata": {},
   "outputs": [],
   "source": [
    "print('distribution', pair['label'].value_counts())"
   ]
  },
  {
   "cell_type": "markdown",
   "id": "6226686e",
   "metadata": {},
   "source": [
    "#### Create Contrastive Dataset"
   ]
  },
  {
   "cell_type": "code",
   "execution_count": null,
   "id": "10df5a8b",
   "metadata": {},
   "outputs": [],
   "source": [
    "def PreProcessing(text, ext=''):\n",
    "    return tokens_transfomer(tokenizer_with_padding(text, EXT.get(text, ext), INPUT_TOKEN_SIZE), VOCAB)\n",
    "\n",
    "def PreProcessing_list(texts, ext=''):\n",
    "    results = []\n",
    "    for text in texts:\n",
    "        results.append(tokens_transfomer(tokenizer_with_padding(text, EXT.get(text, ext), INPUT_TOKEN_SIZE), VOCAB))\n",
    "    return results\n",
    "\n",
    "p1_encoded = pair['p1'].apply(PreProcessing_list).tolist()\n",
    "p2_encoded = pair['p2'].apply(PreProcessing).tolist()\n"
   ]
  },
  {
   "cell_type": "code",
   "execution_count": null,
   "id": "116d8839",
   "metadata": {},
   "outputs": [],
   "source": [
    "p1_tensor = torch.LongTensor(p1_encoded)\n",
    "p2_tensor = torch.LongTensor(p2_encoded)\n",
    "y_test = torch.LongTensor(pair['label'].tolist())"
   ]
  },
  {
   "cell_type": "code",
   "execution_count": null,
   "id": "b92cf9fd",
   "metadata": {},
   "outputs": [],
   "source": [
    "exts = pair['ext'].value_counts()\n",
    "\n",
    "plt.figure(figsize=(5, 2))\n",
    "plt.bar(exts.keys(), exts.values, color='yellowgreen')\n",
    "plt.xlabel('ext distribution')\n",
    "plt.ylabel('Number of Samples')\n",
    "plt.xticks(range(len(exts)))\n",
    "plt.show()"
   ]
  },
  {
   "cell_type": "code",
   "execution_count": null,
   "id": "22551716",
   "metadata": {},
   "outputs": [],
   "source": [
    "torch.save(p1_tensor, '../colab/test/x_test_ref.pt')\n",
    "torch.save(p2_tensor, '../colab/test/x_test_test.pt')\n",
    "torch.save(y_test, '../colab/test/y_test.pt')"
   ]
  },
  {
   "cell_type": "markdown",
   "id": "d3224e9f",
   "metadata": {},
   "source": [
    "---"
   ]
  },
  {
   "cell_type": "markdown",
   "id": "2d7df148",
   "metadata": {},
   "source": [
    "<br><br><br><br><br><br>"
   ]
  }
 ],
 "metadata": {
  "kernelspec": {
   "display_name": "base",
   "language": "python",
   "name": "python3"
  },
  "language_info": {
   "codemirror_mode": {
    "name": "ipython",
    "version": 3
   },
   "file_extension": ".py",
   "mimetype": "text/x-python",
   "name": "python",
   "nbconvert_exporter": "python",
   "pygments_lexer": "ipython3",
   "version": "3.13.2"
  }
 },
 "nbformat": 4,
 "nbformat_minor": 5
}
